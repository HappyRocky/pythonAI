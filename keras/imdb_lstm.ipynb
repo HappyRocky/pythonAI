{
 "cells": [
  {
   "cell_type": "code",
   "execution_count": 1,
   "metadata": {},
   "outputs": [],
   "source": [
    "import os\n",
    "imdb_dir = './data/aclImdb'\n",
    "train_dir = os.path.join(imdb_dir, 'train')\n",
    "\n",
    "labels = []\n",
    "texts = []\n",
    "\n",
    "# 读取原始文本，每一行文本为一个样本\n",
    "for label_type in ['neg', 'pos']:\n",
    "    label = 0 if label_type == 'neg' else 1\n",
    "    dir_name = os.path.join(train_dir, label_type)\n",
    "    for fname in os.listdir(dir_name):\n",
    "        if fname[-4:] == '.txt':\n",
    "            with open(os.path.join(dir_name, fname), encoding='utf-8') as f:\n",
    "                texts.append(f.read())\n",
    "                labels.append(label)"
   ]
  },
  {
   "cell_type": "code",
   "execution_count": 2,
   "metadata": {},
   "outputs": [
    {
     "name": "stderr",
     "output_type": "stream",
     "text": [
      "C:\\Users\\gongyanshang1\\AppData\\Local\\Continuum\\anaconda3\\lib\\site-packages\\h5py\\__init__.py:36: FutureWarning: Conversion of the second argument of issubdtype from `float` to `np.floating` is deprecated. In future, it will be treated as `np.float64 == np.dtype(float).type`.\n",
      "  from ._conv import register_converters as _register_converters\n",
      "Using TensorFlow backend.\n"
     ]
    }
   ],
   "source": [
    "from keras.preprocessing.text import Tokenizer\n",
    "from keras.preprocessing.sequence import pad_sequences\n",
    "import numpy as np\n",
    "\n",
    "maxlen = 1000 # 每条评论的截断\n",
    "training_samples = 200 # 训练样本个数\n",
    "validation_samples = 10000 # 验证样本个数\n",
    "max_words = 10000 # 只考虑词频最大的单词\n",
    "\n",
    "# 将文本转为整数序列\n",
    "tokenizer = Tokenizer(num_words=max_words)\n",
    "tokenizer.fit_on_texts(texts)\n",
    "sequences = tokenizer.texts_to_sequences(texts)\n",
    "data = pad_sequences(sequences, maxlen=maxlen)\n",
    "labels = np.asarray(labels)"
   ]
  },
  {
   "cell_type": "code",
   "execution_count": 3,
   "metadata": {},
   "outputs": [],
   "source": [
    "word_index = tokenizer.word_index"
   ]
  },
  {
   "cell_type": "code",
   "execution_count": 4,
   "metadata": {},
   "outputs": [
    {
     "data": {
      "text/plain": [
       "25000"
      ]
     },
     "execution_count": 4,
     "metadata": {},
     "output_type": "execute_result"
    }
   ],
   "source": [
    "len(data)"
   ]
  },
  {
   "cell_type": "code",
   "execution_count": 5,
   "metadata": {},
   "outputs": [],
   "source": [
    "from sklearn.model_selection import train_test_split\n",
    "x_train_val, x_test, y_train_val, y_test = train_test_split(\n",
    "    data,\n",
    "    labels,\n",
    "    test_size=0.2,\n",
    "    shuffle=True,\n",
    "    random_state=42)\n",
    "x_train, x_val, y_train, y_val = train_test_split(\n",
    "    x_train_val,\n",
    "    y_train_val,\n",
    "    test_size=0.2,\n",
    "    shuffle=True,\n",
    "    random_state=42)"
   ]
  },
  {
   "cell_type": "code",
   "execution_count": 6,
   "metadata": {},
   "outputs": [
    {
     "name": "stdout",
     "output_type": "stream",
     "text": [
      "Found 400000 word vaectors.\n"
     ]
    }
   ],
   "source": [
    "# 解析GloVe词嵌入文件\n",
    "embedding_dim = 100\n",
    "glove_path = './data/glove.6B/glove.6B.%dd.txt' % embedding_dim\n",
    "embeddings_index = {}\n",
    "with open(glove_path, encoding='utf-8') as f:\n",
    "    for line in f:\n",
    "        values = line.split()\n",
    "        word = values[0]\n",
    "        embeddings_index[word] = np.asarray(values[1:], dtype='float32')\n",
    "print('Found %d word vaectors.' % len(embeddings_index))"
   ]
  },
  {
   "cell_type": "code",
   "execution_count": 7,
   "metadata": {},
   "outputs": [],
   "source": [
    "# 生成词嵌入矩阵\n",
    "embedding_matrix = np.zeros((max_words, embedding_dim))\n",
    "for word, i in word_index.items():\n",
    "    if i < max_words:\n",
    "        embedding_vector = embeddings_index.get(word)\n",
    "        if embedding_vector is not None:\n",
    "            embedding_matrix[i] = embedding_vector"
   ]
  },
  {
   "cell_type": "code",
   "execution_count": 8,
   "metadata": {},
   "outputs": [
    {
     "name": "stdout",
     "output_type": "stream",
     "text": [
      "_________________________________________________________________\n",
      "Layer (type)                 Output Shape              Param #   \n",
      "=================================================================\n",
      "embedding_1 (Embedding)      (None, 1000, 100)         1000000   \n",
      "_________________________________________________________________\n",
      "bidirectional_1 (Bidirection (None, 256)               234496    \n",
      "_________________________________________________________________\n",
      "dropout_1 (Dropout)          (None, 256)               0         \n",
      "_________________________________________________________________\n",
      "dense_1 (Dense)              (None, 64)                16448     \n",
      "_________________________________________________________________\n",
      "dropout_2 (Dropout)          (None, 64)                0         \n",
      "_________________________________________________________________\n",
      "dense_2 (Dense)              (None, 1)                 65        \n",
      "=================================================================\n",
      "Total params: 1,251,009\n",
      "Trainable params: 1,251,009\n",
      "Non-trainable params: 0\n",
      "_________________________________________________________________\n"
     ]
    }
   ],
   "source": [
    "# 定义模型\n",
    "import keras\n",
    "from keras.models import Sequential\n",
    "from keras.layers import Embedding, Flatten, Dense, LSTM, Dropout, Bidirectional\n",
    "\n",
    "model = Sequential()\n",
    "model.add(Embedding(max_words, embedding_dim, input_length=maxlen))\n",
    "model.add(Bidirectional(LSTM(128, recurrent_dropout=0.1)))\n",
    "model.add(Dropout(0.25))\n",
    "model.add(Dense(64))\n",
    "model.add(Dropout(0.3))\n",
    "model.add(Dense(1, activation='sigmoid'))\n",
    "model.summary()"
   ]
  },
  {
   "cell_type": "code",
   "execution_count": 9,
   "metadata": {},
   "outputs": [],
   "source": [
    "# 预加载Glove\n",
    "model.layers[0].set_weights([embedding_matrix])\n",
    "model.layers[0].trainable = False"
   ]
  },
  {
   "cell_type": "code",
   "execution_count": null,
   "metadata": {},
   "outputs": [
    {
     "name": "stdout",
     "output_type": "stream",
     "text": [
      "Train on 16000 samples, validate on 4000 samples\n",
      "Epoch 1/20\n",
      "  128/16000 [..............................] - ETA: 3:18:08 - loss: 0.7168 - acc: 0.4922"
     ]
    }
   ],
   "source": [
    "# 训练\n",
    "callbadcks_list = [\n",
    "    keras.callbacks.ModelCheckpoint(\n",
    "        filepath='pre_trained_glove_model.h5',\n",
    "        monitor='val_loss',\n",
    "        save_best_only=True,\n",
    "    )\n",
    "]\n",
    "model.compile(optimizer='rmsprop',loss='binary_crossentropy',metrics=['acc'])\n",
    "history = model.fit(x_train, y_train,\n",
    "                    epochs=20,\n",
    "                    batch_size=128,\n",
    "                    callbacks=callbadcks_list,\n",
    "                    validation_data=(x_val, y_val))"
   ]
  },
  {
   "cell_type": "code",
   "execution_count": null,
   "metadata": {},
   "outputs": [],
   "source": [
    "from sklearn.metrics import accuracy_score, confusion_matrix\n",
    "import seaborn as sb\n",
    "import matplotlib.pyplot as plt\n",
    "def plot_confusion_matrix(y_true, y_pred, ax, class_names, \n",
    "                          vmax=None, normed=True, title='Confusion matrix'):\n",
    "    \"\"\"\n",
    "    画出混淆矩阵\n",
    "    \"\"\"\n",
    "    matrix = confusion_matrix(y_true, y_pred)\n",
    "    if normed:\n",
    "        matrix = matrix.astype('float') / matrix.sum(axis=1)[:, np.newaxis]\n",
    "    sb.heatmap(matrix, vmax=vmax, annot=True, square=True, ax=ax,\n",
    "               cmap=plt.cm.Blues_r, cbar=False, linecolor='black',\n",
    "               linewidth=1, xticklabels=class_names)\n",
    "    ax.set_title(title, y=1.20, fontsize=16)\n",
    "    ax.set_xlabel('Predicted labels', y=1.10, fontsize=12)\n",
    "    ax.set_yticklabels(class_names, rotation=0)"
   ]
  },
  {
   "cell_type": "code",
   "execution_count": null,
   "metadata": {},
   "outputs": [],
   "source": [
    "# 预测\n",
    "y_train_pred = model.predict_classes(x_train)\n",
    "y_test_pred = model.predict_classes(x_test)"
   ]
  },
  {
   "cell_type": "code",
   "execution_count": null,
   "metadata": {},
   "outputs": [],
   "source": [
    "# 画出混淆矩阵\n",
    "fig, (axis1, axis2) = plt.subplots(nrows=1, ncols=2)\n",
    "plot_confusion_matrix(y_train, y_train_pred, ax=axis1,\n",
    "                      title='Confusion matrix (train data)',\n",
    "                      class_names=['Positive', 'Negative'])\n",
    "plot_confusion_matrix(y_test, y_test_pred, ax=axis2,\n",
    "                      title='Confusion matrix (test data)',\n",
    "                      class_names=['Positive', 'Negative'])"
   ]
  },
  {
   "cell_type": "code",
   "execution_count": null,
   "metadata": {},
   "outputs": [],
   "source": [
    "# 画出曲线\n",
    "fig, (axis1, axis2) = plt.subplots(nrows=1, ncols=2, figsize=(16,6))\n",
    "\n",
    "axis1.plot(history.history['acc'], label='Train', linewidth=3)\n",
    "axis1.plot(history.history['val_acc'], label='Validation', linewidth=3)\n",
    "axis1.set_title('Model accuracy', fontsize=16)\n",
    "axis1.set_ylabel('acc')\n",
    "axis1.set_xlabel('epoch')\n",
    "axis1.legend(loc='upper left')\n",
    "\n",
    "axis2.plot(history.history['loss'], label='Train', linewidth=3)\n",
    "axis2.plot(history.history['val_loss'], label='Validation', linewidth=3)\n",
    "axis2.set_title('Model loss', fontsize=16)\n",
    "axis2.set_ylabel('loss')\n",
    "axis2.set_xlabel('epoch')\n",
    "axis2.legend(loc='upper right')\n",
    "plt.show()"
   ]
  },
  {
   "cell_type": "code",
   "execution_count": null,
   "metadata": {},
   "outputs": [],
   "source": []
  }
 ],
 "metadata": {
  "kernelspec": {
   "display_name": "Python 3",
   "language": "python",
   "name": "python3"
  },
  "language_info": {
   "codemirror_mode": {
    "name": "ipython",
    "version": 3
   },
   "file_extension": ".py",
   "mimetype": "text/x-python",
   "name": "python",
   "nbconvert_exporter": "python",
   "pygments_lexer": "ipython3",
   "version": "3.6.5"
  }
 },
 "nbformat": 4,
 "nbformat_minor": 2
}
